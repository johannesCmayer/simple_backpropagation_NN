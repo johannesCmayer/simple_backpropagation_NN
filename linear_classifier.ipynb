{
 "cells": [
  {
   "cell_type": "code",
   "execution_count": 108,
   "metadata": {},
   "outputs": [],
   "source": [
    "import numpy as np\n",
    "import pandas as pd\n",
    "from sklearn.datasets import fetch_openml\n",
    "import matplotlib.pyplot as plt\n",
    "import json\n",
    "import os\n",
    "import logging\n",
    "import random\n",
    "import itertools as it"
   ]
  },
  {
   "cell_type": "code",
   "execution_count": 75,
   "metadata": {},
   "outputs": [],
   "source": [
    "x_data, y_data = fetch_openml('mnist_784', version=1, return_X_y=True)"
   ]
  },
  {
   "cell_type": "code",
   "execution_count": 80,
   "metadata": {},
   "outputs": [],
   "source": [
    "def encode_int_onehot(int_to_encode, num_classes):\n",
    "    vec = np.zeros(num_classes)\n",
    "    vec[int_to_encode] = 1\n",
    "    return vec\n",
    "\n",
    "y_data = y_data.astype(np.int64)\n",
    "y_one_hot = np.array([encode_int_onehot(y, np.max(y_data) + 1) for y in y_data.astype(np.int64)])"
   ]
  },
  {
   "cell_type": "code",
   "execution_count": 85,
   "metadata": {},
   "outputs": [
    {
     "name": "stdout",
     "output_type": "stream",
     "text": [
      "(70000, 10)\n"
     ]
    }
   ],
   "source": [
    "print(y_one_hot.shape)"
   ]
  },
  {
   "cell_type": "code",
   "execution_count": 86,
   "metadata": {
    "collapsed": true
   },
   "outputs": [
    {
     "data": {
      "image/png": "[encoded data removed]",
      "text/plain": [
       "<Figure size 432x288 with 1 Axes>"
      ]
     },
     "metadata": {},
     "output_type": "display_data"
    }
   ],
   "source": [
    "image_side_length = int(np.sqrt(len(x_data[0])))\n",
    "for i in range(1):\n",
    "    plt.imshow(x_data[i].reshape(image_side_length, image_side_length))\n",
    "    plt.show()"
   ]
  },
  {
   "cell_type": "code",
   "execution_count": 184,
   "metadata": {
    "collapsed": true
   },
   "outputs": [],
   "source": [
    "def hinge_loss(pred, y_one_hot):\n",
    "    correct_class = np.argmax(y_one_hot)\n",
    "    value_correct_class = pred[correct_class]\n",
    "    loss = np.maximum(0, pred - value_correct_class + 1)\n",
    "    loss[correct_class] = 0\n",
    "    return np.sum(loss)\n",
    "\n",
    "\n",
    "class LinearClassifier():\n",
    "    def __init__(self, input_size, output_size):\n",
    "        self.weights = np.random.rand(output_size, input_size)\n",
    "\n",
    "    def eval(self, inputs, overwrite_weights=None):\n",
    "        active_weights = self.weights\n",
    "        if overwrite_weights is not None:\n",
    "            active_weights = overwrite_weights\n",
    "        return np.matmul(active_weights, inputs)        \n",
    "\n",
    "    def outputs_to_probabilities(self, outputs):\n",
    "        squashed_result = outputs / np.amax(outputs)\n",
    "        unnormal_probabilities = np.exp(squashed_result)\n",
    "        if unnormal_probabilities[unnormal_probabilities == np.inf].any():\n",
    "            raise Exception('There are infinity values in result after exponentiation. Weights might be initialized to high. Value is {}'\n",
    "                            .format(unnormal_probabilities))\n",
    "        probabilities = unnormal_probabilities / sum(unnormal_probabilities)\n",
    "        return probabilities\n",
    "    \n",
    "    def batch_eval(self, inputs, overwrite_weights=None):\n",
    "        return [self.eval(i, overwrite_weights=overwrite_weights) for i in inputs]\n",
    "\n",
    "    def cost(self, output, one_hot_target, loss_func=hinge_loss):        \n",
    "        return loss_func(output, one_hot_target)\n",
    "    \n",
    "    def cost_vrt(self, outputs, one_hot_targets, loss_func=hinge_loss):\n",
    "        cost = 0\n",
    "        for i, t in zip(outputs, one_hot_targets):\n",
    "            cost += self.cost(i, t, loss_func=loss_func)\n",
    "        return cost / len(outputs)\n",
    "    \n",
    "    def gradient_vrt(self, inputs, one_hot_targets, dx=0.01, batch_size=None):        \n",
    "        data = zip(inputs, one_hot_targets)\n",
    "        if batch_size:\n",
    "            data = random.sample(list(data), batch_size)\n",
    "        weight_mat_shape = self.weights.shape\n",
    "        weight_mat_size = np.size(self.weights)\n",
    "        total_gradient = np.zeros(weight_mat_shape)\n",
    "        cnt = 0\n",
    "        for sample_input, target in data:\n",
    "            sample_gradient = []            \n",
    "            #print(\"\\033[F\")\n",
    "            print('{} / {}'.format(cnt, len(inputs)))\n",
    "            cnt += 1\n",
    "            for i in range(weight_mat_size):\n",
    "                if i % 100 == 0:\n",
    "                    print('{} / {}'.format(i, weight_mat_size), end='\\r')\n",
    "                nudge_weight_mat = np.zeros(weight_mat_size)\n",
    "                nudge_weight_mat[i] = dx                \n",
    "                nudge_weight_mat = nudge_weight_mat.reshape(weight_mat_shape)  \n",
    "                nudged_weight_mat = self.weights + nudge_weight_mat                \n",
    "                nudged_out = self.eval(sample_input, overwrite_weights=nudged_weight_mat)\n",
    "                out = self.eval(sample_input)\n",
    "                \n",
    "                sample_gradient.append(self.cost(nudged_out, one_hot_targets) - self.cost(out, one_hot_targets))\n",
    "                # print('n_out', nudged_out)\n",
    "                # print('out', out)\n",
    "                # print('diff', self.cost(nudged_out, one_hot_targets) - self.cost(out, one_hot_targets))\n",
    "                # #print('diff weights', sum(nudged_weight_mat), sum(self.weights))\n",
    "                # raise Exception()\n",
    "            total_gradient += np.reshape(sample_gradient, weight_mat_shape)\n",
    "        #print('pre noraml total grad', total_gradient)\n",
    "        return total_gradient / np.size(data)\n",
    "        \n",
    "    def train(self, inputs, one_hot_targets, epochs=1, learning_rate=0.01, verbose=False, batch_size=None):\n",
    "        prev_loss = None\n",
    "        for ep in range(epochs):\n",
    "            gradient = self.gradient_vrt(inputs, one_hot_targets, batch_size=batch_size)            \n",
    "            self.weights = self.weights - gradient * learning_rate\n",
    "            if verbose:\n",
    "                #print('gradient:', gradient)\n",
    "                print('gradient max val:', np.max(gradient))\n",
    "                current_loss = self.cost_vrt(self.batch_eval(inputs), one_hot_targets)\n",
    "                print('loss:', current_loss)\n",
    "                if prev_loss:\n",
    "                    print('loss improvment:', prev_loss - current_loss)\n",
    "                prev_loss = current_loss\n",
    "                print('----------')"
   ]
  },
  {
   "cell_type": "code",
   "execution_count": 196,
   "metadata": {},
   "outputs": [],
   "source": [
    "lc = LinearClassifier(x_data[0].size, y_one_hot[0].size)"
   ]
  },
  {
   "cell_type": "code",
   "execution_count": 197,
   "metadata": {
    "collapsed": true
   },
   "outputs": [
    {
     "name": "stdout",
     "output_type": "stream",
     "text": [
      "0 / 1\n0 / 7840\r100 / 7840\r200 / 7840\r300 / 7840\r400 / 7840\r500 / 7840\r600 / 7840\r700 / 7840\r800 / 7840\r900 / 7840\r1000 / 7840\r1100 / 7840\r1200 / 7840\r1300 / 7840\r1400 / 7840\r1500 / 7840\r1600 / 7840\r1700 / 7840\r1800 / 7840\r"
     ]
    },
    {
     "name": "stdout",
     "output_type": "stream",
     "text": [
      "1900 / 7840\r2000 / 7840\r2100 / 7840\r2200 / 7840\r2300 / 7840\r2400 / 7840\r2500 / 7840\r2600 / 7840\r2700 / 7840\r2800 / 7840\r"
     ]
    },
    {
     "name": "stdout",
     "output_type": "stream",
     "text": [
      "2900 / 7840\r3000 / 7840\r3100 / 7840\r3200 / 7840\r3300 / 7840\r3400 / 7840\r3500 / 7840\r3600 / 7840\r3700 / 7840\r3800 / 7840\r3900 / 7840\r4000 / 7840\r4100 / 7840\r4200 / 7840\r4300 / 7840"
     ]
    },
    {
     "name": "stdout",
     "output_type": "stream",
     "text": [
      "\r4400 / 7840\r4500 / 7840\r4600 / 7840\r4700 / 7840\r4800 / 7840\r4900 / 7840\r5000 / 7840\r5100 / 7840\r5200 / 7840\r5300 / 7840\r5400 / 7840\r5500 / 7840\r5600 / 7840\r5700 / 7840\r5800 / 7840\r5900 / 7840\r6000 / 7840\r"
     ]
    },
    {
     "name": "stdout",
     "output_type": "stream",
     "text": [
      "6100 / 7840\r6200 / 7840\r6300 / 7840\r6400 / 7840\r6500 / 7840\r6600 / 7840\r6700 / 7840\r6800 / 7840\r6900 / 7840\r7000 / 7840\r7100 / 7840\r7200 / 7840\r7300 / 7840\r7400 / 7840\r7500 / 7840\r7600 / 7840\r7700 / 7840\r7800 / 7840\rgradient max val: 0.0\n"
     ]
    },
    {
     "name": "stdout",
     "output_type": "stream",
     "text": [
      "loss: 0.0\n----------\n0 / 1\n0 / 7840\r100 / 7840\r200 / 7840\r300 / 7840\r400 / 7840\r500 / 7840\r600 / 7840\r700 / 7840\r800 / 7840\r900 / 7840\r1000 / 7840\r1100 / 7840\r1200 / 7840\r1300 / 7840\r1400 / 7840\r1500 / 7840\r1600 / 7840\r1700 / 7840\r1800 / 7840\r1900 / 7840"
     ]
    },
    {
     "name": "stdout",
     "output_type": "stream",
     "text": [
      "\r2000 / 7840\r2100 / 7840\r2200 / 7840\r2300 / 7840\r2400 / 7840\r2500 / 7840\r2600 / 7840\r2700 / 7840\r2800 / 7840\r2900 / 7840\r3000 / 7840\r3100 / 7840\r3200 / 7840\r3300 / 7840\r3400 / 7840\r3500 / 7840\r3600 / 7840\r3700 / 7840\r3800 / 7840\r3900 / 7840\r"
     ]
    },
    {
     "name": "stdout",
     "output_type": "stream",
     "text": [
      "4000 / 7840\r4100 / 7840\r4200 / 7840\r4300 / 7840\r4400 / 7840\r4500 / 7840\r4600 / 7840\r4700 / 7840\r4800 / 7840\r4900 / 7840\r5000 / 7840\r5100 / 7840\r5200 / 7840\r5300 / 7840\r5400 / 7840\r5500 / 7840\r5600 / 7840\r5700 / 7840\r5800 / 7840\r5900 / 7840\r"
     ]
    },
    {
     "name": "stdout",
     "output_type": "stream",
     "text": [
      "6000 / 7840\r6100 / 7840\r6200 / 7840\r6300 / 7840\r6400 / 7840\r6500 / 7840\r6600 / 7840\r6700 / 7840\r6800 / 7840\r6900 / 7840\r7000 / 7840\r7100 / 7840\r7200 / 7840\r7300 / 7840\r7400 / 7840\r7500 / 7840\r7600 / 7840\r7700 / 7840\r7800 / 7840\rgradient max val:"
     ]
    },
    {
     "name": "stdout",
     "output_type": "stream",
     "text": [
      " 0.0\nloss: 0.0\n----------\n0 / 1\n0 / 7840\r100 / 7840\r200 / 7840\r300 / 7840\r400 / 7840\r500 / 7840\r600 / 7840\r700 / 7840\r800 / 7840\r900 / 7840\r1000 / 7840\r1100 / 7840\r1200 / 7840\r1300 / 7840\r1400 / 7840\r1500 / 7840\r1600 / 7840\r1700 / 7840\r1800 / 7840"
     ]
    },
    {
     "name": "stdout",
     "output_type": "stream",
     "text": [
      "\r1900 / 7840\r2000 / 7840\r2100 / 7840\r2200 / 7840\r2300 / 7840\r2400 / 7840\r2500 / 7840\r2600 / 7840\r2700 / 7840\r2800 / 7840\r2900 / 7840\r3000 / 7840\r3100 / 7840\r3200 / 7840\r3300 / 7840\r3400 / 7840\r3500 / 7840\r3600 / 7840\r"
     ]
    },
    {
     "name": "stdout",
     "output_type": "stream",
     "text": [
      "3700 / 7840\r3800 / 7840\r3900 / 7840\r4000 / 7840\r4100 / 7840\r4200 / 7840\r4300 / 7840\r4400 / 7840\r4500 / 7840\r4600 / 7840\r4700 / 7840\r4800 / 7840\r4900 / 7840\r5000 / 7840\r5100 / 7840\r5200 / 7840\r5300 / 7840\r5400 / 7840\r5500 / 7840\r5600 / 7840\r"
     ]
    },
    {
     "name": "stdout",
     "output_type": "stream",
     "text": [
      "5700 / 7840\r5800 / 7840\r5900 / 7840\r6000 / 7840\r6100 / 7840\r6200 / 7840\r6300 / 7840\r6400 / 7840\r6500 / 7840\r6600 / 7840\r6700 / 7840\r6800 / 7840\r6900 / 7840\r7000 / 7840\r7100 / 7840\r7200 / 7840\r7300 / 7840\r7400 / 7840\r7500 / 7840\r7600 / 7840\r"
     ]
    },
    {
     "name": "stdout",
     "output_type": "stream",
     "text": [
      "7700 / 7840\r7800 / 7840\rgradient max val: 0.0\nloss: 0.0\n----------\n5\n5\n4% Classified correctly\n"
     ]
    }
   ],
   "source": [
    "def run():    \n",
    "    lc.train(x_data[:1], y_one_hot[:1], verbose=True, batch_size=None, epochs=3, learning_rate=0.01)\n",
    "    r = lc.eval(x_data[0])\n",
    "    \n",
    "    print(np.argmax(r))\n",
    "    print(np.argmax(y_one_hot[0]))\n",
    "    \n",
    "    idx_val = 100\n",
    "    val_res = []\n",
    "    for x, y in zip(x_data[:idx_val], y_one_hot[:idx_val]):\n",
    "        val_res.append(np.argmax(lc.eval(x)) == np.argmax(y))\n",
    "    correct_classified = int(sum(val_res) / len(val_res) * 100)\n",
    "    print('{}% Classified correctly'.format(correct_classified))\n",
    "    \n",
    "\n",
    "run()\n",
    "\n"
   ]
  },
  {
   "cell_type": "code",
   "execution_count": 195,
   "metadata": {},
   "outputs": [
    {
     "name": "stdout",
     "output_type": "stream",
     "text": [
      "\n"
     ]
    }
   ],
   "source": [
    "print('')"
   ]
  },
  {
   "cell_type": "code",
   "execution_count": 62,
   "metadata": {},
   "outputs": [
    {
     "name": "stdout",
     "output_type": "stream",
     "text": [
      "(1, 3)\n(3,)\n"
     ]
    }
   ],
   "source": [
    "a = np.array([[1,2,0]])\n",
    "b = np.array([-0,2,1])\n",
    "print(a.shape)\n",
    "print(b.shape)\n",
    "np.matmul(a, b)"
   ]
  }
 ],
 "metadata": {
  "kernelspec": {
   "display_name": "Python 2",
   "language": "python",
   "name": "python2"
  },
  "language_info": {
   "codemirror_mode": {
    "name": "ipython",
    "version": 2
   },
   "file_extension": ".py",
   "mimetype": "text/x-python",
   "name": "python",
   "nbconvert_exporter": "python",
   "pygments_lexer": "ipython2",
   "version": "2.7.6"
  }
 },
 "nbformat": 4,
 "nbformat_minor": 0
}
