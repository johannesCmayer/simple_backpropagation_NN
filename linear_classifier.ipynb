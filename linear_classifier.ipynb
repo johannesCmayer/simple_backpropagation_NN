{
 "cells": [
  {
   "cell_type": "code",
   "execution_count": 5,
   "metadata": {},
   "outputs": [],
   "source": [
    "import numpy as np\n",
    "import pandas as pd\n",
    "from sklearn.datasets import fetch_openml, load_iris\n",
    "import matplotlib.pyplot as plt\n",
    "import json\n",
    "import os\n",
    "import logging\n",
    "import random\n",
    "import itertools as it\n",
    "from IPython.display import clear_output"
   ]
  },
  {
   "cell_type": "code",
   "execution_count": 6,
   "metadata": {},
   "outputs": [],
   "source": [
    "x_data, y_data = fetch_openml('mnist_784', version=1, return_X_y=True)"
   ]
  },
  {
   "cell_type": "code",
   "execution_count": 7,
   "metadata": {},
   "outputs": [],
   "source": [
    "def encode_int_onehot(int_to_encode, num_classes):\n",
    "    vec = np.zeros(num_classes)\n",
    "    vec[int_to_encode] = 1\n",
    "    return vec\n",
    "\n",
    "y_data = y_data.astype(np.int64)\n",
    "y_one_hot = np.array([encode_int_onehot(y, np.max(y_data) + 1) for y in y_data.astype(np.int64)])"
   ]
  },
  {
   "cell_type": "code",
   "execution_count": 8,
   "metadata": {},
   "outputs": [
    {
     "name": "stdout",
     "output_type": "stream",
     "text": [
      "1.0\n255.0\n"
     ]
    }
   ],
   "source": [
    "x_data_normalized = x_data / 255\n",
    "print(np.max(x_data_normalized))\n",
    "print(np.max(x_data))"
   ]
  },
  {
   "cell_type": "code",
   "execution_count": 9,
   "metadata": {
    "collapsed": true
   },
   "outputs": [
    {
     "data": {
      "image/png": "[encoded data removed]",
      "text/plain": [
       "<Figure size 432x288 with 1 Axes>"
      ]
     },
     "metadata": {},
     "output_type": "display_data"
    }
   ],
   "source": [
    "image_side_length = int(np.sqrt(len(x_data[0])))\n",
    "for i in range(1):\n",
    "    plt.imshow(x_data_normalized[i].reshape(image_side_length, image_side_length))\n",
    "    plt.show()"
   ]
  },
  {
   "cell_type": "code",
   "execution_count": 94,
   "metadata": {
    "collapsed": true
   },
   "outputs": [],
   "source": [
    "def hinge_loss(pred, y_one_hot):\n",
    "    correct_class = np.argmax(y_one_hot)\n",
    "    value_correct_class = pred[correct_class]\n",
    "    loss = np.maximum(0, pred - value_correct_class + 1)\n",
    "    loss[correct_class] = 0\n",
    "    return np.sum(loss)\n",
    "\n",
    "\n",
    "class LinearClassifier():\n",
    "    def __init__(self, input_size, output_size):\n",
    "        self.weights = np.random.rand(output_size, input_size)\n",
    "\n",
    "    def eval(self, inputs, overwrite_weights=None):\n",
    "        active_weights = self.weights\n",
    "        if overwrite_weights is not None:\n",
    "            active_weights = overwrite_weights\n",
    "        return np.matmul(active_weights, inputs)        \n",
    "\n",
    "    def outputs_to_probabilities(self, outputs):\n",
    "        squashed_result = outputs / np.amax(outputs)\n",
    "        unnormal_probabilities = np.exp(squashed_result)\n",
    "        if unnormal_probabilities[unnormal_probabilities == np.inf].any():\n",
    "            raise Exception('There are infinity values in result after exponentiation. Weights might be initialized to high. Value is {}'\n",
    "                            .format(unnormal_probabilities))\n",
    "        probabilities = unnormal_probabilities / sum(unnormal_probabilities)\n",
    "        return probabilities\n",
    "    \n",
    "    def batch_eval(self, inputs, overwrite_weights=None):\n",
    "        return [self.eval(i, overwrite_weights=overwrite_weights) for i in inputs]\n",
    "\n",
    "    def loss(self, output, one_hot_target, loss_func=hinge_loss):        \n",
    "        return loss_func(output, one_hot_target)\n",
    "    \n",
    "    def cost_vrt(self, outputs, one_hot_targets, loss_func=hinge_loss):\n",
    "        cost = 0\n",
    "        for i, t in zip(outputs, one_hot_targets):\n",
    "            cost += self.loss(i, t, loss_func=loss_func)\n",
    "        return cost / len(outputs)\n",
    "    \n",
    "    def gradient_vrt(self, inputs, one_hot_targets, dx=0.0001, batch_size=None):        \n",
    "        data = zip(inputs, one_hot_targets)\n",
    "        data_length = batch_size if batch_size else len(inputs)\n",
    "        if batch_size:\n",
    "            data = random.sample(list(data), batch_size)\n",
    "        weight_mat_shape = self.weights.shape\n",
    "        weight_mat_size = np.size(self.weights)\n",
    "        total_gradient = np.zeros(weight_mat_shape)\n",
    "        cnt = 0\n",
    "        for sample_input, target in data:\n",
    "            sample_gradient = []\n",
    "            print('{}/{} - '.format(cnt, data_length), end='\\r')\n",
    "            cnt += 1\n",
    "            for i in range(weight_mat_size):\n",
    "                # if i % 1000 == 0:\n",
    "                #     print('{} / {}'.format(i, weight_mat_size), end='\\r')\n",
    "                self.weights = self.weights.reshape(-1)\n",
    "                self.weights[i] += dx\n",
    "                self.weights = self.weights.reshape(weight_mat_shape)              \n",
    "                nudged_out = self.eval(sample_input)\n",
    "                self.weights = self.weights.reshape(-1)\n",
    "                self.weights[i] -= dx\n",
    "                self.weights = self.weights.reshape(weight_mat_shape)   \n",
    "                \n",
    "                out = self.eval(sample_input)\n",
    "                \n",
    "                sample_gradient.append((self.loss(nudged_out, one_hot_targets) - self.loss(out, one_hot_targets)) / dx)\n",
    "                #if self.loss(nudged_out, one_hot_targets) - self.loss(out, one_hot_targets) / dx > 1:\n",
    "                    # print('n_out', nudged_out)\n",
    "                    # print('out', out)\n",
    "                    #print('nudge_mat_max', np.argmax(nudge_weight_mat))\n",
    "                    #print('diff', self.loss(nudged_out, one_hot_targets) - self.loss(out, one_hot_targets))\n",
    "                    #print('diff weights', sum(nudged_weight_mat), sum(self.weights))\n",
    "                    #raise Exception()\n",
    "            total_gradient += np.reshape(sample_gradient, weight_mat_shape)\n",
    "        total_gradient /= data_length\n",
    "        # print('pre noraml total grad', total_gradient)\n",
    "        # print(np.max(total_gradient)/ np.size(data))\n",
    "        # raise Exception()\n",
    "        # print('culp?:', np.take(total_gradient, np.where(total_gradient >= 0.3)))\n",
    "        # print('culp?:', np.max(total_gradient))\n",
    "        # print(total_gradient.shape)\n",
    "        # print(self.weights.shape)\n",
    "        # raise Exception()\n",
    "        return total_gradient\n",
    "        \n",
    "    def eval_performance(self, inputs, one_hot_targets):\n",
    "        val_res = []\n",
    "        for x, y in zip(inputs, one_hot_targets):\n",
    "            val_res.append(np.argmax(lc.eval(x)) == np.argmax(y))\n",
    "        correct_classified = int(sum(val_res) / len(val_res) * 100)\n",
    "        print('{}% Classified correctly'.format(correct_classified))\n",
    "        \n",
    "    def train(self, inputs, one_hot_targets, epochs=1, learning_rate=0.01, verbose=False, batch_size=None):\n",
    "        prev_loss = None\n",
    "        for ep in range(epochs):\n",
    "            gradient = self.gradient_vrt(inputs, one_hot_targets, batch_size=batch_size)     \n",
    "            if verbose:\n",
    "                clear_output()\n",
    "                #print('gradient:', gradient)\n",
    "                print('gradient max val:', np.max(gradient * learning_rate))\n",
    "                current_loss = self.cost_vrt(self.batch_eval(inputs), one_hot_targets)\n",
    "                print('loss:', current_loss)\n",
    "                if prev_loss:\n",
    "                    print('loss improvment:', prev_loss - current_loss)\n",
    "                prev_loss = current_loss\n",
    "                print('weights max', np.max(self.weights))\n",
    "                print('weights min', np.min(self.weights))\n",
    "                self.eval_performance(inputs, one_hot_targets)\n",
    "                print('----------')\n",
    "            self.weights = self.weights + (gradient * learning_rate)\n",
    "            "
   ]
  },
  {
   "cell_type": "code",
   "execution_count": 95,
   "metadata": {},
   "outputs": [],
   "source": [
    "lc = LinearClassifier(x_data_normalized[0].size, y_one_hot[0].size)"
   ]
  },
  {
   "cell_type": "code",
   "execution_count": 97,
   "metadata": {
    "collapsed": true
   },
   "outputs": [
    {
     "name": "stdout",
     "output_type": "stream",
     "text": [
      "0/100 - \r"
     ]
    },
    {
     "name": "stdout",
     "output_type": "stream",
     "text": [
      "1/100 - \r"
     ]
    },
    {
     "name": "stdout",
     "output_type": "stream",
     "text": [
      "2/100 - \r"
     ]
    },
    {
     "name": "stdout",
     "output_type": "stream",
     "text": [
      "3/100 - \r"
     ]
    },
    {
     "name": "stdout",
     "output_type": "stream",
     "text": [
      "4/100 - \r"
     ]
    },
    {
     "name": "stdout",
     "output_type": "stream",
     "text": [
      "5/100 - \r"
     ]
    },
    {
     "name": "stdout",
     "output_type": "stream",
     "text": [
      "6/100 - \r"
     ]
    },
    {
     "name": "stdout",
     "output_type": "stream",
     "text": [
      "7/100 - \r"
     ]
    },
    {
     "name": "stdout",
     "output_type": "stream",
     "text": [
      "8/100 - \r"
     ]
    },
    {
     "name": "stdout",
     "output_type": "stream",
     "text": [
      "9/100 - \r"
     ]
    },
    {
     "name": "stdout",
     "output_type": "stream",
     "text": [
      "10/100 - \r"
     ]
    },
    {
     "name": "stdout",
     "output_type": "stream",
     "text": [
      "11/100 - \r"
     ]
    },
    {
     "name": "stdout",
     "output_type": "stream",
     "text": [
      "12/100 - \r"
     ]
    },
    {
     "name": "stdout",
     "output_type": "stream",
     "text": [
      "13/100 - \r"
     ]
    },
    {
     "name": "stdout",
     "output_type": "stream",
     "text": [
      "14/100 - \r"
     ]
    },
    {
     "name": "stdout",
     "output_type": "stream",
     "text": [
      "15/100 - \r"
     ]
    },
    {
     "name": "stdout",
     "output_type": "stream",
     "text": [
      "16/100 - \r"
     ]
    },
    {
     "name": "stdout",
     "output_type": "stream",
     "text": [
      "17/100 - \r"
     ]
    },
    {
     "name": "stdout",
     "output_type": "stream",
     "text": [
      "18/100 - \r"
     ]
    },
    {
     "name": "stdout",
     "output_type": "stream",
     "text": [
      "19/100 - \r"
     ]
    },
    {
     "name": "stdout",
     "output_type": "stream",
     "text": [
      "20/100 - \r"
     ]
    },
    {
     "name": "stdout",
     "output_type": "stream",
     "text": [
      "21/100 - \r"
     ]
    },
    {
     "name": "stdout",
     "output_type": "stream",
     "text": [
      "22/100 - \r"
     ]
    },
    {
     "name": "stdout",
     "output_type": "stream",
     "text": [
      "23/100 - \r"
     ]
    },
    {
     "name": "stdout",
     "output_type": "stream",
     "text": [
      "24/100 - \r"
     ]
    },
    {
     "name": "stdout",
     "output_type": "stream",
     "text": [
      "25/100 - \r"
     ]
    },
    {
     "name": "stdout",
     "output_type": "stream",
     "text": [
      "26/100 - \r"
     ]
    },
    {
     "name": "stdout",
     "output_type": "stream",
     "text": [
      "27/100 - \r"
     ]
    },
    {
     "name": "stdout",
     "output_type": "stream",
     "text": [
      "28/100 - \r"
     ]
    },
    {
     "name": "stdout",
     "output_type": "stream",
     "text": [
      "29/100 - \r"
     ]
    },
    {
     "name": "stdout",
     "output_type": "stream",
     "text": [
      "30/100 - \r"
     ]
    },
    {
     "name": "stdout",
     "output_type": "stream",
     "text": [
      "31/100 - \r"
     ]
    },
    {
     "name": "stdout",
     "output_type": "stream",
     "text": [
      "32/100 - \r"
     ]
    },
    {
     "name": "stdout",
     "output_type": "stream",
     "text": [
      "33/100 - \r"
     ]
    },
    {
     "name": "stdout",
     "output_type": "stream",
     "text": [
      "34/100 - \r"
     ]
    },
    {
     "name": "stdout",
     "output_type": "stream",
     "text": [
      "35/100 - \r"
     ]
    },
    {
     "name": "stdout",
     "output_type": "stream",
     "text": [
      "36/100 - \r"
     ]
    },
    {
     "name": "stdout",
     "output_type": "stream",
     "text": [
      "37/100 - \r"
     ]
    },
    {
     "name": "stdout",
     "output_type": "stream",
     "text": [
      "38/100 - \r"
     ]
    },
    {
     "name": "stdout",
     "output_type": "stream",
     "text": [
      "39/100 - \r"
     ]
    },
    {
     "name": "stdout",
     "output_type": "stream",
     "text": [
      "40/100 - \r"
     ]
    },
    {
     "name": "stdout",
     "output_type": "stream",
     "text": [
      "41/100 - \r"
     ]
    },
    {
     "name": "stdout",
     "output_type": "stream",
     "text": [
      "42/100 - \r"
     ]
    },
    {
     "name": "stdout",
     "output_type": "stream",
     "text": [
      "43/100 - \r"
     ]
    },
    {
     "name": "stdout",
     "output_type": "stream",
     "text": [
      "44/100 - \r"
     ]
    },
    {
     "name": "stdout",
     "output_type": "stream",
     "text": [
      "45/100 - \r"
     ]
    },
    {
     "name": "stdout",
     "output_type": "stream",
     "text": [
      "46/100 - \r"
     ]
    },
    {
     "name": "stdout",
     "output_type": "stream",
     "text": [
      "47/100 - \r"
     ]
    },
    {
     "name": "stdout",
     "output_type": "stream",
     "text": [
      "48/100 - \r"
     ]
    },
    {
     "name": "stdout",
     "output_type": "stream",
     "text": [
      "49/100 - \r"
     ]
    },
    {
     "name": "stdout",
     "output_type": "stream",
     "text": [
      "50/100 - \r"
     ]
    },
    {
     "name": "stdout",
     "output_type": "stream",
     "text": [
      "51/100 - \r"
     ]
    },
    {
     "name": "stdout",
     "output_type": "stream",
     "text": [
      "52/100 - \r"
     ]
    },
    {
     "name": "stdout",
     "output_type": "stream",
     "text": [
      "53/100 - \r"
     ]
    },
    {
     "name": "stdout",
     "output_type": "stream",
     "text": [
      "54/100 - \r"
     ]
    },
    {
     "name": "stdout",
     "output_type": "stream",
     "text": [
      "55/100 - \r"
     ]
    },
    {
     "name": "stdout",
     "output_type": "stream",
     "text": [
      "56/100 - \r"
     ]
    },
    {
     "name": "stdout",
     "output_type": "stream",
     "text": [
      "57/100 - \r"
     ]
    },
    {
     "name": "stdout",
     "output_type": "stream",
     "text": [
      "58/100 - \r"
     ]
    },
    {
     "name": "stdout",
     "output_type": "stream",
     "text": [
      "59/100 - \r"
     ]
    },
    {
     "name": "stdout",
     "output_type": "stream",
     "text": [
      "60/100 - \r"
     ]
    },
    {
     "name": "stdout",
     "output_type": "stream",
     "text": [
      "61/100 - \r"
     ]
    },
    {
     "name": "stdout",
     "output_type": "stream",
     "text": [
      "62/100 - \r"
     ]
    },
    {
     "name": "stdout",
     "output_type": "stream",
     "text": [
      "63/100 - \r"
     ]
    },
    {
     "name": "stdout",
     "output_type": "stream",
     "text": [
      "64/100 - \r"
     ]
    },
    {
     "name": "stdout",
     "output_type": "stream",
     "text": [
      "65/100 - \r"
     ]
    },
    {
     "name": "stdout",
     "output_type": "stream",
     "text": [
      "66/100 - \r"
     ]
    },
    {
     "name": "stdout",
     "output_type": "stream",
     "text": [
      "67/100 - \r"
     ]
    },
    {
     "name": "stdout",
     "output_type": "stream",
     "text": [
      "68/100 - \r"
     ]
    },
    {
     "name": "stdout",
     "output_type": "stream",
     "text": [
      "69/100 - \r"
     ]
    },
    {
     "name": "stdout",
     "output_type": "stream",
     "text": [
      "70/100 - \r"
     ]
    },
    {
     "name": "stdout",
     "output_type": "stream",
     "text": [
      "71/100 - \r"
     ]
    },
    {
     "name": "stdout",
     "output_type": "stream",
     "text": [
      "72/100 - \r"
     ]
    },
    {
     "name": "stdout",
     "output_type": "stream",
     "text": [
      "73/100 - \r"
     ]
    },
    {
     "name": "stdout",
     "output_type": "stream",
     "text": [
      "74/100 - \r"
     ]
    },
    {
     "name": "stdout",
     "output_type": "stream",
     "text": [
      "75/100 - \r"
     ]
    },
    {
     "name": "stdout",
     "output_type": "stream",
     "text": [
      "76/100 - \r"
     ]
    },
    {
     "name": "stdout",
     "output_type": "stream",
     "text": [
      "77/100 - \r"
     ]
    },
    {
     "name": "stdout",
     "output_type": "stream",
     "text": [
      "78/100 - \r"
     ]
    },
    {
     "name": "stdout",
     "output_type": "stream",
     "text": [
      "79/100 - \r"
     ]
    },
    {
     "name": "stdout",
     "output_type": "stream",
     "text": [
      "80/100 - \r"
     ]
    },
    {
     "name": "stdout",
     "output_type": "stream",
     "text": [
      "81/100 - \r"
     ]
    },
    {
     "name": "stdout",
     "output_type": "stream",
     "text": [
      "82/100 - \r"
     ]
    },
    {
     "name": "stdout",
     "output_type": "stream",
     "text": [
      "83/100 - \r"
     ]
    },
    {
     "name": "stdout",
     "output_type": "stream",
     "text": [
      "84/100 - \r"
     ]
    },
    {
     "name": "stdout",
     "output_type": "stream",
     "text": [
      "85/100 - \r"
     ]
    },
    {
     "name": "stdout",
     "output_type": "stream",
     "text": [
      "86/100 - \r"
     ]
    },
    {
     "name": "stdout",
     "output_type": "stream",
     "text": [
      "87/100 - \r"
     ]
    },
    {
     "name": "stdout",
     "output_type": "stream",
     "text": [
      "88/100 - \r"
     ]
    },
    {
     "name": "stdout",
     "output_type": "stream",
     "text": [
      "89/100 - \r"
     ]
    },
    {
     "name": "stdout",
     "output_type": "stream",
     "text": [
      "90/100 - \r"
     ]
    },
    {
     "name": "stdout",
     "output_type": "stream",
     "text": [
      "91/100 - \r"
     ]
    },
    {
     "name": "stdout",
     "output_type": "stream",
     "text": [
      "92/100 - \r"
     ]
    },
    {
     "name": "stdout",
     "output_type": "stream",
     "text": [
      "93/100 - \r"
     ]
    },
    {
     "name": "stdout",
     "output_type": "stream",
     "text": [
      "94/100 - \r"
     ]
    },
    {
     "name": "stdout",
     "output_type": "stream",
     "text": [
      "95/100 - \r"
     ]
    },
    {
     "name": "stdout",
     "output_type": "stream",
     "text": [
      "96/100 - \r"
     ]
    },
    {
     "name": "stdout",
     "output_type": "stream",
     "text": [
      "97/100 - \r"
     ]
    },
    {
     "name": "stdout",
     "output_type": "stream",
     "text": [
      "98/100 - \r"
     ]
    },
    {
     "name": "stdout",
     "output_type": "stream",
     "text": [
      "99/100 - \r"
     ]
    },
    {
     "name": "stdout",
     "output_type": "stream",
     "text": [
      "gradient max val: 0.0005741176471417475\nloss: 30.28033044397468\nweights max 1.1028650425309068\nweights min -0.9412469846906562\n15% Classified correctly\n----------\n0/100 - \r"
     ]
    },
    {
     "name": "stdout",
     "output_type": "stream",
     "text": [
      "1/100 - \r"
     ]
    },
    {
     "name": "stdout",
     "output_type": "stream",
     "text": [
      "2/100 - \r"
     ]
    },
    {
     "name": "stdout",
     "output_type": "stream",
     "text": [
      "3/100 - \r"
     ]
    },
    {
     "name": "stdout",
     "output_type": "stream",
     "text": [
      "4/100 - \r"
     ]
    },
    {
     "name": "stdout",
     "output_type": "stream",
     "text": [
      "5/100 - \r"
     ]
    },
    {
     "name": "stdout",
     "output_type": "stream",
     "text": [
      "6/100 - \r"
     ]
    },
    {
     "name": "stdout",
     "output_type": "stream",
     "text": [
      "7/100 - \r"
     ]
    },
    {
     "name": "stdout",
     "output_type": "stream",
     "text": [
      "8/100 - \r"
     ]
    },
    {
     "name": "stdout",
     "output_type": "stream",
     "text": [
      "9/100 - \r"
     ]
    },
    {
     "name": "stdout",
     "output_type": "stream",
     "text": [
      "10/100 - \r"
     ]
    },
    {
     "name": "stdout",
     "output_type": "stream",
     "text": [
      "11/100 - \r"
     ]
    },
    {
     "name": "stdout",
     "output_type": "stream",
     "text": [
      "12/100 - \r"
     ]
    },
    {
     "name": "stdout",
     "output_type": "stream",
     "text": [
      "13/100 - \r"
     ]
    },
    {
     "name": "stdout",
     "output_type": "stream",
     "text": [
      "14/100 - \r"
     ]
    },
    {
     "name": "stdout",
     "output_type": "stream",
     "text": [
      "15/100 - \r"
     ]
    },
    {
     "name": "stdout",
     "output_type": "stream",
     "text": [
      "16/100 - \r"
     ]
    },
    {
     "name": "stdout",
     "output_type": "stream",
     "text": [
      "17/100 - \r"
     ]
    },
    {
     "name": "stdout",
     "output_type": "stream",
     "text": [
      "18/100 - \r"
     ]
    },
    {
     "name": "stdout",
     "output_type": "stream",
     "text": [
      "19/100 - \r"
     ]
    },
    {
     "name": "stdout",
     "output_type": "stream",
     "text": [
      "20/100 - \r"
     ]
    },
    {
     "name": "stdout",
     "output_type": "stream",
     "text": [
      "21/100 - \r"
     ]
    },
    {
     "name": "stdout",
     "output_type": "stream",
     "text": [
      "22/100 - \r"
     ]
    },
    {
     "name": "stdout",
     "output_type": "stream",
     "text": [
      "23/100 - \r"
     ]
    },
    {
     "name": "stdout",
     "output_type": "stream",
     "text": [
      "24/100 - \r"
     ]
    },
    {
     "name": "stdout",
     "output_type": "stream",
     "text": [
      "25/100 - \r"
     ]
    },
    {
     "name": "stdout",
     "output_type": "stream",
     "text": [
      "26/100 - \r"
     ]
    },
    {
     "name": "stdout",
     "output_type": "stream",
     "text": [
      "27/100 - \r"
     ]
    },
    {
     "name": "stdout",
     "output_type": "stream",
     "text": [
      "28/100 - \r"
     ]
    },
    {
     "name": "stdout",
     "output_type": "stream",
     "text": [
      "29/100 - \r"
     ]
    },
    {
     "name": "stdout",
     "output_type": "stream",
     "text": [
      "30/100 - \r"
     ]
    },
    {
     "name": "stdout",
     "output_type": "stream",
     "text": [
      "31/100 - \r"
     ]
    },
    {
     "name": "stdout",
     "output_type": "stream",
     "text": [
      "32/100 - \r"
     ]
    },
    {
     "name": "stdout",
     "output_type": "stream",
     "text": [
      "33/100 - \r"
     ]
    },
    {
     "name": "stdout",
     "output_type": "stream",
     "text": [
      "34/100 - \r"
     ]
    },
    {
     "name": "stdout",
     "output_type": "stream",
     "text": [
      "35/100 - \r"
     ]
    },
    {
     "name": "stdout",
     "output_type": "stream",
     "text": [
      "36/100 - \r"
     ]
    },
    {
     "name": "stdout",
     "output_type": "stream",
     "text": [
      "37/100 - \r"
     ]
    },
    {
     "name": "stdout",
     "output_type": "stream",
     "text": [
      "38/100 - \r"
     ]
    },
    {
     "name": "stdout",
     "output_type": "stream",
     "text": [
      "39/100 - \r"
     ]
    },
    {
     "name": "stdout",
     "output_type": "stream",
     "text": [
      "40/100 - \r"
     ]
    },
    {
     "name": "stdout",
     "output_type": "stream",
     "text": [
      "41/100 - \r"
     ]
    },
    {
     "name": "stdout",
     "output_type": "stream",
     "text": [
      "42/100 - \r"
     ]
    },
    {
     "name": "stdout",
     "output_type": "stream",
     "text": [
      "43/100 - \r"
     ]
    },
    {
     "name": "stdout",
     "output_type": "stream",
     "text": [
      "44/100 - \r"
     ]
    },
    {
     "name": "stdout",
     "output_type": "stream",
     "text": [
      "45/100 - \r"
     ]
    },
    {
     "name": "stdout",
     "output_type": "stream",
     "text": [
      "46/100 - \r"
     ]
    },
    {
     "name": "stdout",
     "output_type": "stream",
     "text": [
      "47/100 - \r"
     ]
    },
    {
     "name": "stdout",
     "output_type": "stream",
     "text": [
      "48/100 - \r"
     ]
    },
    {
     "name": "stdout",
     "output_type": "stream",
     "text": [
      "49/100 - \r"
     ]
    },
    {
     "name": "stdout",
     "output_type": "stream",
     "text": [
      "50/100 - \r"
     ]
    },
    {
     "name": "stdout",
     "output_type": "stream",
     "text": [
      "51/100 - \r"
     ]
    },
    {
     "name": "stdout",
     "output_type": "stream",
     "text": [
      "52/100 - \r"
     ]
    },
    {
     "name": "stdout",
     "output_type": "stream",
     "text": [
      "53/100 - \r"
     ]
    },
    {
     "name": "stdout",
     "output_type": "stream",
     "text": [
      "54/100 - \r"
     ]
    },
    {
     "name": "stdout",
     "output_type": "stream",
     "text": [
      "55/100 - \r"
     ]
    },
    {
     "name": "stdout",
     "output_type": "stream",
     "text": [
      "56/100 - \r"
     ]
    },
    {
     "name": "stdout",
     "output_type": "stream",
     "text": [
      "57/100 - \r"
     ]
    },
    {
     "name": "stdout",
     "output_type": "stream",
     "text": [
      "58/100 - \r"
     ]
    },
    {
     "name": "stdout",
     "output_type": "stream",
     "text": [
      "59/100 - \r"
     ]
    },
    {
     "name": "stdout",
     "output_type": "stream",
     "text": [
      "60/100 - \r"
     ]
    },
    {
     "name": "stdout",
     "output_type": "stream",
     "text": [
      "61/100 - \r"
     ]
    },
    {
     "name": "stdout",
     "output_type": "stream",
     "text": [
      "62/100 - \r"
     ]
    },
    {
     "name": "stdout",
     "output_type": "stream",
     "text": [
      "63/100 - \r"
     ]
    },
    {
     "name": "stdout",
     "output_type": "stream",
     "text": [
      "64/100 - \r"
     ]
    },
    {
     "name": "stdout",
     "output_type": "stream",
     "text": [
      "65/100 - \r"
     ]
    },
    {
     "name": "stdout",
     "output_type": "stream",
     "text": [
      "66/100 - \r"
     ]
    },
    {
     "name": "stdout",
     "output_type": "stream",
     "text": [
      "67/100 - \r"
     ]
    },
    {
     "name": "stdout",
     "output_type": "stream",
     "text": [
      "68/100 - \r"
     ]
    },
    {
     "name": "stdout",
     "output_type": "stream",
     "text": [
      "69/100 - \r"
     ]
    },
    {
     "name": "stdout",
     "output_type": "stream",
     "text": [
      "70/100 - \r"
     ]
    },
    {
     "name": "stdout",
     "output_type": "stream",
     "text": [
      "71/100 - \r"
     ]
    },
    {
     "name": "stdout",
     "output_type": "stream",
     "text": [
      "72/100 - \r"
     ]
    },
    {
     "name": "stdout",
     "output_type": "stream",
     "text": [
      "73/100 - \r"
     ]
    },
    {
     "name": "stdout",
     "output_type": "stream",
     "text": [
      "74/100 - \r"
     ]
    },
    {
     "name": "stdout",
     "output_type": "stream",
     "text": [
      "75/100 - \r"
     ]
    },
    {
     "name": "stdout",
     "output_type": "stream",
     "text": [
      "76/100 - \r"
     ]
    },
    {
     "name": "stdout",
     "output_type": "stream",
     "text": [
      "77/100 - \r"
     ]
    },
    {
     "name": "stdout",
     "output_type": "stream",
     "text": [
      "78/100 - \r"
     ]
    },
    {
     "name": "stdout",
     "output_type": "stream",
     "text": [
      "79/100 - \r"
     ]
    },
    {
     "name": "stdout",
     "output_type": "stream",
     "text": [
      "80/100 - \r"
     ]
    },
    {
     "name": "stdout",
     "output_type": "stream",
     "text": [
      "81/100 - \r"
     ]
    },
    {
     "name": "stdout",
     "output_type": "stream",
     "text": [
      "82/100 - \r"
     ]
    },
    {
     "name": "stdout",
     "output_type": "stream",
     "text": [
      "83/100 - \r"
     ]
    },
    {
     "name": "stdout",
     "output_type": "stream",
     "text": [
      "84/100 - \r"
     ]
    },
    {
     "name": "stdout",
     "output_type": "stream",
     "text": [
      "85/100 - \r"
     ]
    },
    {
     "name": "stdout",
     "output_type": "stream",
     "text": [
      "86/100 - \r"
     ]
    },
    {
     "name": "stdout",
     "output_type": "stream",
     "text": [
      "87/100 - \r"
     ]
    },
    {
     "name": "stdout",
     "output_type": "stream",
     "text": [
      "88/100 - \r"
     ]
    },
    {
     "name": "stdout",
     "output_type": "stream",
     "text": [
      "89/100 - \r"
     ]
    },
    {
     "name": "stdout",
     "output_type": "stream",
     "text": [
      "90/100 - \r"
     ]
    },
    {
     "name": "stdout",
     "output_type": "stream",
     "text": [
      "91/100 - \r"
     ]
    },
    {
     "name": "stdout",
     "output_type": "stream",
     "text": [
      "92/100 - \r"
     ]
    },
    {
     "name": "stdout",
     "output_type": "stream",
     "text": [
      "93/100 - \r"
     ]
    },
    {
     "name": "stdout",
     "output_type": "stream",
     "text": [
      "94/100 - \r"
     ]
    },
    {
     "name": "stdout",
     "output_type": "stream",
     "text": [
      "95/100 - \r"
     ]
    },
    {
     "name": "stdout",
     "output_type": "stream",
     "text": [
      "96/100 - \r"
     ]
    },
    {
     "name": "stdout",
     "output_type": "stream",
     "text": [
      "97/100 - \r"
     ]
    },
    {
     "name": "stdout",
     "output_type": "stream",
     "text": [
      "98/100 - \r"
     ]
    },
    {
     "name": "stdout",
     "output_type": "stream",
     "text": [
      "99/100 - \r"
     ]
    },
    {
     "name": "stdout",
     "output_type": "stream",
     "text": [
      "gradient max val: 0.0005741176470735355\nloss: 30.397623984181422\nloss improvment: -0.11729354020674165\nweights max 1.1033115131192162\nweights min -0.9440218082199409\n15% Classified correctly\n----------\n0/100 - \r"
     ]
    },
    {
     "name": "stdout",
     "output_type": "stream",
     "text": [
      "1/100 - \r"
     ]
    },
    {
     "name": "stdout",
     "output_type": "stream",
     "text": [
      "2/100 - \r"
     ]
    },
    {
     "name": "stdout",
     "output_type": "stream",
     "text": [
      "3/100 - \r"
     ]
    },
    {
     "name": "stdout",
     "output_type": "stream",
     "text": [
      "4/100 - \r"
     ]
    },
    {
     "name": "stdout",
     "output_type": "stream",
     "text": [
      "5/100 - \r"
     ]
    },
    {
     "name": "stdout",
     "output_type": "stream",
     "text": [
      "6/100 - \r"
     ]
    },
    {
     "name": "stdout",
     "output_type": "stream",
     "text": [
      "7/100 - \r"
     ]
    },
    {
     "name": "stdout",
     "output_type": "stream",
     "text": [
      "8/100 - \r"
     ]
    },
    {
     "name": "stdout",
     "output_type": "stream",
     "text": [
      "9/100 - \r"
     ]
    },
    {
     "name": "stdout",
     "output_type": "stream",
     "text": [
      "10/100 - \r"
     ]
    },
    {
     "name": "stdout",
     "output_type": "stream",
     "text": [
      "11/100 - \r"
     ]
    },
    {
     "name": "stdout",
     "output_type": "stream",
     "text": [
      "12/100 - \r"
     ]
    },
    {
     "name": "stdout",
     "output_type": "stream",
     "text": [
      "13/100 - \r"
     ]
    },
    {
     "name": "stdout",
     "output_type": "stream",
     "text": [
      "14/100 - \r"
     ]
    },
    {
     "name": "stdout",
     "output_type": "stream",
     "text": [
      "15/100 - \r"
     ]
    },
    {
     "name": "stdout",
     "output_type": "stream",
     "text": [
      "16/100 - \r"
     ]
    },
    {
     "name": "stdout",
     "output_type": "stream",
     "text": [
      "17/100 - \r"
     ]
    },
    {
     "name": "stdout",
     "output_type": "stream",
     "text": [
      "18/100 - \r"
     ]
    },
    {
     "name": "stdout",
     "output_type": "stream",
     "text": [
      "19/100 - \r"
     ]
    },
    {
     "name": "stdout",
     "output_type": "stream",
     "text": [
      "20/100 - \r"
     ]
    },
    {
     "name": "stdout",
     "output_type": "stream",
     "text": [
      "21/100 - \r"
     ]
    },
    {
     "name": "stdout",
     "output_type": "stream",
     "text": [
      "22/100 - \r"
     ]
    },
    {
     "name": "stdout",
     "output_type": "stream",
     "text": [
      "23/100 - \r"
     ]
    },
    {
     "name": "stdout",
     "output_type": "stream",
     "text": [
      "24/100 - \r"
     ]
    },
    {
     "name": "stdout",
     "output_type": "stream",
     "text": [
      "25/100 - \r"
     ]
    },
    {
     "name": "stdout",
     "output_type": "stream",
     "text": [
      "26/100 - \r"
     ]
    },
    {
     "name": "stdout",
     "output_type": "stream",
     "text": [
      "27/100 - \r"
     ]
    },
    {
     "name": "stdout",
     "output_type": "stream",
     "text": [
      "28/100 - \r"
     ]
    },
    {
     "name": "stdout",
     "output_type": "stream",
     "text": [
      "29/100 - \r"
     ]
    },
    {
     "name": "stdout",
     "output_type": "stream",
     "text": [
      "30/100 - \r"
     ]
    },
    {
     "name": "stdout",
     "output_type": "stream",
     "text": [
      "31/100 - \r"
     ]
    },
    {
     "name": "stdout",
     "output_type": "stream",
     "text": [
      "32/100 - \r"
     ]
    },
    {
     "name": "stdout",
     "output_type": "stream",
     "text": [
      "33/100 - \r"
     ]
    },
    {
     "name": "stdout",
     "output_type": "stream",
     "text": [
      "34/100 - \r"
     ]
    },
    {
     "name": "stdout",
     "output_type": "stream",
     "text": [
      "35/100 - \r"
     ]
    },
    {
     "name": "stdout",
     "output_type": "stream",
     "text": [
      "36/100 - \r"
     ]
    },
    {
     "name": "stdout",
     "output_type": "stream",
     "text": [
      "37/100 - \r"
     ]
    },
    {
     "name": "stdout",
     "output_type": "stream",
     "text": [
      "38/100 - \r"
     ]
    },
    {
     "name": "stdout",
     "output_type": "stream",
     "text": [
      "39/100 - \r"
     ]
    },
    {
     "name": "stdout",
     "output_type": "stream",
     "text": [
      "40/100 - \r"
     ]
    },
    {
     "name": "stdout",
     "output_type": "stream",
     "text": [
      "41/100 - \r"
     ]
    },
    {
     "name": "stdout",
     "output_type": "stream",
     "text": [
      "42/100 - \r"
     ]
    },
    {
     "name": "stdout",
     "output_type": "stream",
     "text": [
      "43/100 - \r"
     ]
    },
    {
     "name": "stdout",
     "output_type": "stream",
     "text": [
      "44/100 - \r"
     ]
    },
    {
     "name": "stdout",
     "output_type": "stream",
     "text": [
      "45/100 - \r"
     ]
    },
    {
     "name": "stdout",
     "output_type": "stream",
     "text": [
      "46/100 - \r"
     ]
    },
    {
     "name": "stdout",
     "output_type": "stream",
     "text": [
      "47/100 - \r"
     ]
    },
    {
     "name": "stdout",
     "output_type": "stream",
     "text": [
      "48/100 - \r"
     ]
    },
    {
     "name": "stdout",
     "output_type": "stream",
     "text": [
      "49/100 - \r"
     ]
    },
    {
     "name": "stdout",
     "output_type": "stream",
     "text": [
      "50/100 - \r"
     ]
    },
    {
     "name": "stdout",
     "output_type": "stream",
     "text": [
      "51/100 - \r"
     ]
    },
    {
     "name": "stdout",
     "output_type": "stream",
     "text": [
      "52/100 - \r"
     ]
    },
    {
     "name": "stdout",
     "output_type": "stream",
     "text": [
      "53/100 - \r"
     ]
    },
    {
     "name": "stdout",
     "output_type": "stream",
     "text": [
      "54/100 - \r"
     ]
    },
    {
     "name": "stdout",
     "output_type": "stream",
     "text": [
      "55/100 - \r"
     ]
    },
    {
     "name": "stdout",
     "output_type": "stream",
     "text": [
      "56/100 - \r"
     ]
    },
    {
     "name": "stdout",
     "output_type": "stream",
     "text": [
      "57/100 - \r"
     ]
    },
    {
     "name": "stdout",
     "output_type": "stream",
     "text": [
      "58/100 - \r"
     ]
    },
    {
     "name": "stdout",
     "output_type": "stream",
     "text": [
      "59/100 - \r"
     ]
    },
    {
     "name": "stdout",
     "output_type": "stream",
     "text": [
      "60/100 - \r"
     ]
    },
    {
     "name": "stdout",
     "output_type": "stream",
     "text": [
      "61/100 - \r"
     ]
    },
    {
     "name": "stdout",
     "output_type": "stream",
     "text": [
      "62/100 - \r"
     ]
    },
    {
     "name": "stdout",
     "output_type": "stream",
     "text": [
      "63/100 - \r"
     ]
    },
    {
     "name": "stdout",
     "output_type": "stream",
     "text": [
      "64/100 - \r"
     ]
    },
    {
     "name": "stdout",
     "output_type": "stream",
     "text": [
      "65/100 - \r"
     ]
    },
    {
     "name": "stdout",
     "output_type": "stream",
     "text": [
      "66/100 - \r"
     ]
    },
    {
     "name": "stdout",
     "output_type": "stream",
     "text": [
      "67/100 - \r"
     ]
    },
    {
     "name": "stdout",
     "output_type": "stream",
     "text": [
      "68/100 - \r"
     ]
    },
    {
     "name": "stdout",
     "output_type": "stream",
     "text": [
      "69/100 - \r"
     ]
    },
    {
     "name": "stdout",
     "output_type": "stream",
     "text": [
      "70/100 - \r"
     ]
    },
    {
     "name": "stdout",
     "output_type": "stream",
     "text": [
      "71/100 - \r"
     ]
    },
    {
     "name": "stdout",
     "output_type": "stream",
     "text": [
      "72/100 - \r"
     ]
    },
    {
     "name": "stdout",
     "output_type": "stream",
     "text": [
      "73/100 - \r"
     ]
    },
    {
     "name": "stdout",
     "output_type": "stream",
     "text": [
      "74/100 - \r"
     ]
    },
    {
     "name": "stdout",
     "output_type": "stream",
     "text": [
      "75/100 - \r"
     ]
    },
    {
     "name": "stdout",
     "output_type": "stream",
     "text": [
      "76/100 - \r"
     ]
    },
    {
     "name": "stdout",
     "output_type": "stream",
     "text": [
      "77/100 - \r"
     ]
    },
    {
     "name": "stdout",
     "output_type": "stream",
     "text": [
      "78/100 - \r"
     ]
    },
    {
     "name": "stdout",
     "output_type": "stream",
     "text": [
      "79/100 - \r"
     ]
    },
    {
     "name": "stdout",
     "output_type": "stream",
     "text": [
      "80/100 - \r"
     ]
    },
    {
     "name": "stdout",
     "output_type": "stream",
     "text": [
      "81/100 - \r"
     ]
    },
    {
     "name": "stdout",
     "output_type": "stream",
     "text": [
      "82/100 - \r"
     ]
    },
    {
     "name": "stdout",
     "output_type": "stream",
     "text": [
      "83/100 - \r"
     ]
    },
    {
     "name": "stdout",
     "output_type": "stream",
     "text": [
      "84/100 - \r"
     ]
    },
    {
     "name": "stdout",
     "output_type": "stream",
     "text": [
      "85/100 - \r"
     ]
    },
    {
     "name": "stdout",
     "output_type": "stream",
     "text": [
      "86/100 - \r"
     ]
    },
    {
     "name": "stdout",
     "output_type": "stream",
     "text": [
      "87/100 - \r"
     ]
    },
    {
     "name": "stdout",
     "output_type": "stream",
     "text": [
      "88/100 - \r"
     ]
    },
    {
     "name": "stdout",
     "output_type": "stream",
     "text": [
      "89/100 - \r"
     ]
    },
    {
     "name": "stdout",
     "output_type": "stream",
     "text": [
      "90/100 - \r"
     ]
    },
    {
     "name": "stdout",
     "output_type": "stream",
     "text": [
      "91/100 - \r"
     ]
    },
    {
     "name": "stdout",
     "output_type": "stream",
     "text": [
      "92/100 - \r"
     ]
    },
    {
     "name": "stdout",
     "output_type": "stream",
     "text": [
      "93/100 - \r"
     ]
    },
    {
     "name": "stdout",
     "output_type": "stream",
     "text": [
      "94/100 - \r"
     ]
    },
    {
     "name": "stdout",
     "output_type": "stream",
     "text": [
      "95/100 - \r"
     ]
    },
    {
     "name": "stdout",
     "output_type": "stream",
     "text": [
      "96/100 - \r"
     ]
    },
    {
     "name": "stdout",
     "output_type": "stream",
     "text": [
      "97/100 - \r"
     ]
    },
    {
     "name": "stdout",
     "output_type": "stream",
     "text": [
      "98/100 - \r"
     ]
    },
    {
     "name": "stdout",
     "output_type": "stream",
     "text": [
      "99/100 - \r"
     ]
    },
    {
     "name": "stdout",
     "output_type": "stream",
     "text": [
      "gradient max val: 0.000574117647065009\nloss: 30.514917524388167\nloss improvment: -0.1172935402067452\nweights max 1.1037579837074631\nweights min -0.9467966317492824\n15% Classified correctly\n----------\n0/100 - \r"
     ]
    },
    {
     "name": "stdout",
     "output_type": "stream",
     "text": [
      "1/100 - \r"
     ]
    },
    {
     "name": "stdout",
     "output_type": "stream",
     "text": [
      "2/100 - \r"
     ]
    },
    {
     "name": "stdout",
     "output_type": "stream",
     "text": [
      "3/100 - \r"
     ]
    },
    {
     "name": "stdout",
     "output_type": "stream",
     "text": [
      "4/100 - \r"
     ]
    },
    {
     "name": "stdout",
     "output_type": "stream",
     "text": [
      "5/100 - \r"
     ]
    },
    {
     "name": "stdout",
     "output_type": "stream",
     "text": [
      "6/100 - \r"
     ]
    },
    {
     "name": "stdout",
     "output_type": "stream",
     "text": [
      "7/100 - \r"
     ]
    },
    {
     "name": "stdout",
     "output_type": "stream",
     "text": [
      "8/100 - \r"
     ]
    },
    {
     "name": "stdout",
     "output_type": "stream",
     "text": [
      "9/100 - \r"
     ]
    },
    {
     "name": "stdout",
     "output_type": "stream",
     "text": [
      "10/100 - \r"
     ]
    },
    {
     "name": "stdout",
     "output_type": "stream",
     "text": [
      "11/100 - \r"
     ]
    },
    {
     "name": "stdout",
     "output_type": "stream",
     "text": [
      "12/100 - \r"
     ]
    },
    {
     "name": "stdout",
     "output_type": "stream",
     "text": [
      "13/100 - \r"
     ]
    },
    {
     "name": "stdout",
     "output_type": "stream",
     "text": [
      "14/100 - \r"
     ]
    },
    {
     "name": "stdout",
     "output_type": "stream",
     "text": [
      "15/100 - \r"
     ]
    },
    {
     "name": "stdout",
     "output_type": "stream",
     "text": [
      "16/100 - \r"
     ]
    },
    {
     "name": "stdout",
     "output_type": "stream",
     "text": [
      "17/100 - \r"
     ]
    },
    {
     "name": "stdout",
     "output_type": "stream",
     "text": [
      "18/100 - \r"
     ]
    },
    {
     "name": "stdout",
     "output_type": "stream",
     "text": [
      "19/100 - \r"
     ]
    },
    {
     "name": "stdout",
     "output_type": "stream",
     "text": [
      "20/100 - \r"
     ]
    },
    {
     "name": "stdout",
     "output_type": "stream",
     "text": [
      "21/100 - \r"
     ]
    },
    {
     "name": "stdout",
     "output_type": "stream",
     "text": [
      "22/100 - \r"
     ]
    },
    {
     "name": "stdout",
     "output_type": "stream",
     "text": [
      "23/100 - \r"
     ]
    },
    {
     "name": "stdout",
     "output_type": "stream",
     "text": [
      "24/100 - \r"
     ]
    },
    {
     "name": "stdout",
     "output_type": "stream",
     "text": [
      "25/100 - \r"
     ]
    },
    {
     "name": "stdout",
     "output_type": "stream",
     "text": [
      "26/100 - \r"
     ]
    },
    {
     "ename": "KeyboardInterrupt",
     "evalue": "",
     "traceback": [
      "\u001b[0;31m---------------------------------------------------------------------------\u001b[0m",
      "\u001b[0;31mKeyboardInterrupt\u001b[0m                         Traceback (most recent call last)",
      "\u001b[0;32m<ipython-input-97-949b5ca0706b>\u001b[0m in \u001b[0;36m<module>\u001b[0;34m()\u001b[0m\n\u001b[1;32m     10\u001b[0m \u001b[0;34m\u001b[0m\u001b[0m\n\u001b[1;32m     11\u001b[0m \u001b[0;34m\u001b[0m\u001b[0m\n\u001b[0;32m---> 12\u001b[0;31m \u001b[0mrun\u001b[0m\u001b[0;34m(\u001b[0m\u001b[0;34m)\u001b[0m\u001b[0;34m\u001b[0m\u001b[0m\n\u001b[0m",
      "\u001b[0;32m<ipython-input-97-949b5ca0706b>\u001b[0m in \u001b[0;36mrun\u001b[0;34m()\u001b[0m\n\u001b[1;32m      2\u001b[0m \u001b[0;34m\u001b[0m\u001b[0m\n\u001b[1;32m      3\u001b[0m \u001b[0;32mdef\u001b[0m \u001b[0mrun\u001b[0m\u001b[0;34m(\u001b[0m\u001b[0;34m)\u001b[0m\u001b[0;34m:\u001b[0m\u001b[0;34m\u001b[0m\u001b[0m\n\u001b[0;32m----> 4\u001b[0;31m     \u001b[0mlc\u001b[0m\u001b[0;34m.\u001b[0m\u001b[0mtrain\u001b[0m\u001b[0;34m(\u001b[0m\u001b[0mx_data_normalized\u001b[0m\u001b[0;34m[\u001b[0m\u001b[0;34m:\u001b[0m\u001b[0;36m100\u001b[0m\u001b[0;34m]\u001b[0m\u001b[0;34m,\u001b[0m \u001b[0my_one_hot\u001b[0m\u001b[0;34m[\u001b[0m\u001b[0;34m:\u001b[0m\u001b[0;36m100\u001b[0m\u001b[0;34m]\u001b[0m\u001b[0;34m,\u001b[0m \u001b[0mverbose\u001b[0m\u001b[0;34m=\u001b[0m\u001b[0;32mTrue\u001b[0m\u001b[0;34m,\u001b[0m \u001b[0mbatch_size\u001b[0m\u001b[0;34m=\u001b[0m\u001b[0;32mNone\u001b[0m\u001b[0;34m,\u001b[0m \u001b[0mepochs\u001b[0m\u001b[0;34m=\u001b[0m\u001b[0;36m20000\u001b[0m\u001b[0;34m,\u001b[0m \u001b[0mlearning_rate\u001b[0m\u001b[0;34m=\u001b[0m\u001b[0;36m0.001\u001b[0m\u001b[0;34m)\u001b[0m\u001b[0;34m\u001b[0m\u001b[0m\n\u001b[0m\u001b[1;32m      5\u001b[0m \u001b[0;34m\u001b[0m\u001b[0m\n\u001b[1;32m      6\u001b[0m     \u001b[0mprint\u001b[0m\u001b[0;34m(\u001b[0m\u001b[0mnp\u001b[0m\u001b[0;34m.\u001b[0m\u001b[0margmax\u001b[0m\u001b[0;34m(\u001b[0m\u001b[0mlc\u001b[0m\u001b[0;34m.\u001b[0m\u001b[0meval\u001b[0m\u001b[0;34m(\u001b[0m\u001b[0mx_data_normalized\u001b[0m\u001b[0;34m[\u001b[0m\u001b[0;36m0\u001b[0m\u001b[0;34m]\u001b[0m\u001b[0;34m)\u001b[0m\u001b[0;34m)\u001b[0m\u001b[0;34m)\u001b[0m\u001b[0;34m\u001b[0m\u001b[0m\n",
      "\u001b[0;32m<ipython-input-94-d4ed8b30238a>\u001b[0m in \u001b[0;36mtrain\u001b[0;34m(self, inputs, one_hot_targets, epochs, learning_rate, verbose, batch_size)\u001b[0m\n\u001b[1;32m     94\u001b[0m         \u001b[0mprev_loss\u001b[0m \u001b[0;34m=\u001b[0m \u001b[0;32mNone\u001b[0m\u001b[0;34m\u001b[0m\u001b[0m\n\u001b[1;32m     95\u001b[0m         \u001b[0;32mfor\u001b[0m \u001b[0mep\u001b[0m \u001b[0;32min\u001b[0m \u001b[0mrange\u001b[0m\u001b[0;34m(\u001b[0m\u001b[0mepochs\u001b[0m\u001b[0;34m)\u001b[0m\u001b[0;34m:\u001b[0m\u001b[0;34m\u001b[0m\u001b[0m\n\u001b[0;32m---> 96\u001b[0;31m             \u001b[0mgradient\u001b[0m \u001b[0;34m=\u001b[0m \u001b[0mself\u001b[0m\u001b[0;34m.\u001b[0m\u001b[0mgradient_vrt\u001b[0m\u001b[0;34m(\u001b[0m\u001b[0minputs\u001b[0m\u001b[0;34m,\u001b[0m \u001b[0mone_hot_targets\u001b[0m\u001b[0;34m,\u001b[0m \u001b[0mbatch_size\u001b[0m\u001b[0;34m=\u001b[0m\u001b[0mbatch_size\u001b[0m\u001b[0;34m)\u001b[0m\u001b[0;34m\u001b[0m\u001b[0m\n\u001b[0m\u001b[1;32m     97\u001b[0m             \u001b[0;32mif\u001b[0m \u001b[0mverbose\u001b[0m\u001b[0;34m:\u001b[0m\u001b[0;34m\u001b[0m\u001b[0m\n\u001b[1;32m     98\u001b[0m                 \u001b[0mclear_output\u001b[0m\u001b[0;34m(\u001b[0m\u001b[0;34m)\u001b[0m\u001b[0;34m\u001b[0m\u001b[0m\n",
      "\u001b[0;32m<ipython-input-94-d4ed8b30238a>\u001b[0m in \u001b[0;36mgradient_vrt\u001b[0;34m(self, inputs, one_hot_targets, dx, batch_size)\u001b[0m\n\u001b[1;32m     62\u001b[0m                 \u001b[0mself\u001b[0m\u001b[0;34m.\u001b[0m\u001b[0mweights\u001b[0m \u001b[0;34m=\u001b[0m \u001b[0mself\u001b[0m\u001b[0;34m.\u001b[0m\u001b[0mweights\u001b[0m\u001b[0;34m.\u001b[0m\u001b[0mreshape\u001b[0m\u001b[0;34m(\u001b[0m\u001b[0mweight_mat_shape\u001b[0m\u001b[0;34m)\u001b[0m\u001b[0;34m\u001b[0m\u001b[0m\n\u001b[1;32m     63\u001b[0m \u001b[0;34m\u001b[0m\u001b[0m\n\u001b[0;32m---> 64\u001b[0;31m                 \u001b[0mout\u001b[0m \u001b[0;34m=\u001b[0m \u001b[0mself\u001b[0m\u001b[0;34m.\u001b[0m\u001b[0meval\u001b[0m\u001b[0;34m(\u001b[0m\u001b[0msample_input\u001b[0m\u001b[0;34m)\u001b[0m\u001b[0;34m\u001b[0m\u001b[0m\n\u001b[0m\u001b[1;32m     65\u001b[0m \u001b[0;34m\u001b[0m\u001b[0m\n\u001b[1;32m     66\u001b[0m                 \u001b[0msample_gradient\u001b[0m\u001b[0;34m.\u001b[0m\u001b[0mappend\u001b[0m\u001b[0;34m(\u001b[0m\u001b[0;34m(\u001b[0m\u001b[0mself\u001b[0m\u001b[0;34m.\u001b[0m\u001b[0mloss\u001b[0m\u001b[0;34m(\u001b[0m\u001b[0mnudged_out\u001b[0m\u001b[0;34m,\u001b[0m \u001b[0mone_hot_targets\u001b[0m\u001b[0;34m)\u001b[0m \u001b[0;34m-\u001b[0m \u001b[0mself\u001b[0m\u001b[0;34m.\u001b[0m\u001b[0mloss\u001b[0m\u001b[0;34m(\u001b[0m\u001b[0mout\u001b[0m\u001b[0;34m,\u001b[0m \u001b[0mone_hot_targets\u001b[0m\u001b[0;34m)\u001b[0m\u001b[0;34m)\u001b[0m \u001b[0;34m/\u001b[0m \u001b[0mdx\u001b[0m\u001b[0;34m)\u001b[0m\u001b[0;34m\u001b[0m\u001b[0m\n",
      "\u001b[0;32m<ipython-input-94-d4ed8b30238a>\u001b[0m in \u001b[0;36meval\u001b[0;34m(self, inputs, overwrite_weights)\u001b[0m\n\u001b[1;32m     15\u001b[0m         \u001b[0;32mif\u001b[0m \u001b[0moverwrite_weights\u001b[0m \u001b[0;32mis\u001b[0m \u001b[0;32mnot\u001b[0m \u001b[0;32mNone\u001b[0m\u001b[0;34m:\u001b[0m\u001b[0;34m\u001b[0m\u001b[0m\n\u001b[1;32m     16\u001b[0m             \u001b[0mactive_weights\u001b[0m \u001b[0;34m=\u001b[0m \u001b[0moverwrite_weights\u001b[0m\u001b[0;34m\u001b[0m\u001b[0m\n\u001b[0;32m---> 17\u001b[0;31m         \u001b[0;32mreturn\u001b[0m \u001b[0mnp\u001b[0m\u001b[0;34m.\u001b[0m\u001b[0mmatmul\u001b[0m\u001b[0;34m(\u001b[0m\u001b[0mactive_weights\u001b[0m\u001b[0;34m,\u001b[0m \u001b[0minputs\u001b[0m\u001b[0;34m)\u001b[0m\u001b[0;34m\u001b[0m\u001b[0m\n\u001b[0m\u001b[1;32m     18\u001b[0m \u001b[0;34m\u001b[0m\u001b[0m\n\u001b[1;32m     19\u001b[0m     \u001b[0;32mdef\u001b[0m \u001b[0moutputs_to_probabilities\u001b[0m\u001b[0;34m(\u001b[0m\u001b[0mself\u001b[0m\u001b[0;34m,\u001b[0m \u001b[0moutputs\u001b[0m\u001b[0;34m)\u001b[0m\u001b[0;34m:\u001b[0m\u001b[0;34m\u001b[0m\u001b[0m\n",
      "\u001b[0;31mKeyboardInterrupt\u001b[0m: "
     ],
     "output_type": "error"
    }
   ],
   "source": [
    "\n",
    "\n",
    "def run():\n",
    "    lc.train(x_data_normalized[:100], y_one_hot[:100], verbose=True, batch_size=None, epochs=20000, learning_rate=0.001)\n",
    "    \n",
    "    print(np.argmax(lc.eval(x_data_normalized[0])))\n",
    "    print(np.argmax(y_one_hot[0]))\n",
    "    \n",
    "\n",
    "    \n",
    "\n",
    "run()"
   ]
  },
  {
   "cell_type": "code",
   "execution_count": 218,
   "metadata": {},
   "outputs": [],
   "source": [
    "class RandGen():\n",
    "    def __init__(self, seed=0):\n",
    "        self.seed = seed\n",
    "        self.previous_rand = seed\n",
    "        self.position = 0\n",
    "        self.a = 156316\n",
    "        self.b = 46542\n",
    "        self.m = 45755456\n",
    "        \n",
    "    def generate(self):\n",
    "        rand = (self.a * self.previous_rand + self.b) % self.m\n",
    "        print(np.power(10, len(str(self.m))))\n",
    "        rand /= np.power(10, len(str(self.m)) - 2)\n",
    "        self.previous_rand = rand\n",
    "        self.position += 1    \n",
    "        return rand\n",
    "    \n",
    "rg = RandGen()"
   ]
  },
  {
   "cell_type": "code",
   "execution_count": 282,
   "metadata": {
    "collapsed": false
   },
   "outputs": [
    {
     "name": "stdout",
     "output_type": "stream",
     "text": [
      "1410065408\n100000000\n0.05516520403373776\n100000000\n0.05516520403373776\n"
     ]
    },
    {
     "data": {
      "text/plain": [
       "0.05516520403373776"
      ]
     },
     "execution_count": 282,
     "metadata": {},
     "output_type": "execute_result"
    }
   ],
   "source": [
    "print(np.power(10, 10))\n",
    "\n",
    "for i in range(2):\n",
    "    print(rg.generate())\n",
    "    \n",
    "rg.position\n",
    "rg.previous_rand"
   ]
  },
  {
   "cell_type": "code",
   "execution_count": 62,
   "metadata": {},
   "outputs": [
    {
     "name": "stdout",
     "output_type": "stream",
     "text": [
      "(1, 3)\n(3,)\n"
     ]
    }
   ],
   "source": [
    "a = np.array([[1,2,0]])\n",
    "b = np.array([-0,2,1])\n",
    "print(a.shape)\n",
    "print(b.shape)\n",
    "np.matmul(a, b)"
   ]
  }
 ],
 "metadata": {
  "kernelspec": {
   "display_name": "Python 2",
   "language": "python",
   "name": "python2"
  },
  "language_info": {
   "codemirror_mode": {
    "name": "ipython",
    "version": 2
   },
   "file_extension": ".py",
   "mimetype": "text/x-python",
   "name": "python",
   "nbconvert_exporter": "python",
   "pygments_lexer": "ipython2",
   "version": "2.7.6"
  }
 },
 "nbformat": 4,
 "nbformat_minor": 0
}
